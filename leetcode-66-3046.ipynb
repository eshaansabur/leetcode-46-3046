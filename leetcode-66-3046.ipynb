{
 "cells": [
  {
   "cell_type": "code",
   "execution_count": 7,
   "id": "79624a52-50b9-4fd9-bbdd-13d68066af82",
   "metadata": {},
   "outputs": [
    {
     "name": "stdout",
     "output_type": "stream",
     "text": [
      "9\n",
      "[1, 0]\n"
     ]
    }
   ],
   "source": [
    "digits = [9]\n",
    "def plusOne(digits):\n",
    "    string=\"\"\n",
    "    for i in digits:\n",
    "        string=string+str(i)\n",
    "    print(string)\n",
    "    new_number= str(int(string)+1)\n",
    "    new_list=[]\n",
    "    for i in new_number:\n",
    "        new_list.append(int(i))\n",
    "    return new_list\n",
    "plusOne(digits)"
   ]
  },
  {
   "cell_type": "code",
   "execution_count": 23,
   "id": "7ff3638b-38b6-4e52-8930-f0186207b33e",
   "metadata": {},
   "outputs": [
    {
     "data": {
      "text/plain": [
       "False"
      ]
     },
     "execution_count": 23,
     "metadata": {},
     "output_type": "execute_result"
    }
   ],
   "source": [
    "nums = [6,1,3,1,1,8,9,2]\n",
    "def isPossibleToSplit(nums):\n",
    "    dict={}\n",
    "    for i in nums:\n",
    "        if i in dict.keys():\n",
    "            dict[i]+=1\n",
    "        else:\n",
    "            dict[i]=1\n",
    "    #print(dict)\n",
    "    values=[]\n",
    "    for k, v in dict.items():\n",
    "        values.append(v)\n",
    "    max_v= max(values)\n",
    "    if max_v >2:\n",
    "        return False\n",
    "    else:\n",
    "        return True\n",
    "\n",
    "isPossibleToSplit(nums)"
   ]
  },
  {
   "cell_type": "code",
   "execution_count": null,
   "id": "a20adc9b-8352-44a1-8b26-bbcaf1c04300",
   "metadata": {},
   "outputs": [],
   "source": []
  }
 ],
 "metadata": {
  "kernelspec": {
   "display_name": "Python 3 (ipykernel)",
   "language": "python",
   "name": "python3"
  },
  "language_info": {
   "codemirror_mode": {
    "name": "ipython",
    "version": 3
   },
   "file_extension": ".py",
   "mimetype": "text/x-python",
   "name": "python",
   "nbconvert_exporter": "python",
   "pygments_lexer": "ipython3",
   "version": "3.11.7"
  }
 },
 "nbformat": 4,
 "nbformat_minor": 5
}
